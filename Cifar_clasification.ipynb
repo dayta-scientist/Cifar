{
  "metadata": {
    "kernelspec": {
      "language": "python",
      "display_name": "Python 3",
      "name": "python3"
    },
    "language_info": {
      "name": "python",
      "version": "3.7.10",
      "mimetype": "text/x-python",
      "codemirror_mode": {
        "name": "ipython",
        "version": 3
      },
      "pygments_lexer": "ipython3",
      "nbconvert_exporter": "python",
      "file_extension": ".py"
    },
    "colab": {
      "name": "Cifar-clasification.ipynb",
      "provenance": [],
      "collapsed_sections": []
    },
    "accelerator": "GPU",
    "gpuClass": "standard"
  },
  "nbformat_minor": 0,
  "nbformat": 4,
  "cells": [
    {
      "cell_type": "code",
      "source": [
        "from tensorflow import keras\n",
        "from tensorflow.keras.utils import to_categorical\n",
        "from tensorflow.keras import regularizers\n",
        "from tensorflow.keras.models import Sequential\n",
        "from tensorflow.keras.layers import Conv2D,MaxPooling2D, Flatten, Dense, Dropout, Activation, BatchNormalization\n",
        "from tensorflow.keras.datasets import cifar10\n",
        "from tensorflow.keras.preprocessing.image import ImageDataGenerator\n",
        "from tensorflow.keras.callbacks import ModelCheckpoint"
      ],
      "metadata": {
        "_uuid": "8f2839f25d086af736a60e9eeb907d3b93b6e0e5",
        "_cell_guid": "b1076dfc-b9ad-4769-8c92-a6c4dae69d19",
        "execution": {
          "iopub.status.busy": "2021-11-11T17:37:39.602340Z",
          "iopub.execute_input": "2021-11-11T17:37:39.602928Z",
          "iopub.status.idle": "2021-11-11T17:37:44.087025Z",
          "shell.execute_reply.started": "2021-11-11T17:37:39.602835Z",
          "shell.execute_reply": "2021-11-11T17:37:44.086247Z"
        },
        "trusted": true,
        "id": "-PQl2G6MB2q_"
      },
      "execution_count": 1,
      "outputs": []
    },
    {
      "cell_type": "code",
      "source": [
        "import numpy as np\n",
        "import matplotlib.pyplot as plt "
      ],
      "metadata": {
        "execution": {
          "iopub.status.busy": "2021-11-11T17:37:45.843984Z",
          "iopub.execute_input": "2021-11-11T17:37:45.846294Z",
          "iopub.status.idle": "2021-11-11T17:37:45.853796Z",
          "shell.execute_reply.started": "2021-11-11T17:37:45.846253Z",
          "shell.execute_reply": "2021-11-11T17:37:45.853187Z"
        },
        "trusted": true,
        "id": "ppntD8zuB2rE"
      },
      "execution_count": 2,
      "outputs": []
    },
    {
      "cell_type": "markdown",
      "source": [
        "## Cargando dataset"
      ],
      "metadata": {
        "id": "XJvLljWWB2rG"
      }
    },
    {
      "cell_type": "code",
      "source": [
        "(x_train, y_train), (x_test, y_test) = cifar10.load_data()"
      ],
      "metadata": {
        "execution": {
          "iopub.status.busy": "2021-11-11T17:38:25.440960Z",
          "iopub.execute_input": "2021-11-11T17:38:25.441223Z",
          "iopub.status.idle": "2021-11-11T17:38:30.173554Z",
          "shell.execute_reply.started": "2021-11-11T17:38:25.441197Z",
          "shell.execute_reply": "2021-11-11T17:38:30.172848Z"
        },
        "trusted": true,
        "colab": {
          "base_uri": "https://localhost:8080/"
        },
        "id": "EVYkp1NrB2rH",
        "outputId": "53aecd98-093d-4351-faf2-fd6b7df13481"
      },
      "execution_count": 3,
      "outputs": [
        {
          "output_type": "stream",
          "name": "stdout",
          "text": [
            "Downloading data from https://www.cs.toronto.edu/~kriz/cifar-10-python.tar.gz\n",
            "170500096/170498071 [==============================] - 13s 0us/step\n",
            "170508288/170498071 [==============================] - 13s 0us/step\n"
          ]
        }
      ]
    },
    {
      "cell_type": "code",
      "source": [
        "plt.imshow(x_train[5])"
      ],
      "metadata": {
        "execution": {
          "iopub.status.busy": "2021-11-11T17:38:38.135549Z",
          "iopub.execute_input": "2021-11-11T17:38:38.136203Z",
          "iopub.status.idle": "2021-11-11T17:38:38.397360Z",
          "shell.execute_reply.started": "2021-11-11T17:38:38.136170Z",
          "shell.execute_reply": "2021-11-11T17:38:38.396645Z"
        },
        "trusted": true,
        "colab": {
          "base_uri": "https://localhost:8080/",
          "height": 284
        },
        "id": "9Vbtfg1hB2rJ",
        "outputId": "4dc8fd8c-c050-4d19-c5d2-54d681c3dd75"
      },
      "execution_count": 4,
      "outputs": [
        {
          "output_type": "execute_result",
          "data": {
            "text/plain": [
              "<matplotlib.image.AxesImage at 0x7ffb0fb8ed50>"
            ]
          },
          "metadata": {},
          "execution_count": 4
        },
        {
          "output_type": "display_data",
          "data": {
            "text/plain": [
              "<Figure size 432x288 with 1 Axes>"
            ],
            "image/png": "[encoded data removed]"
          },
          "metadata": {
            "needs_background": "light"
          }
        }
      ]
    },
    {
      "cell_type": "markdown",
      "source": [
        "## Data Cleaning"
      ],
      "metadata": {
        "id": "_yNf67hdB2rK"
      }
    },
    {
      "cell_type": "code",
      "source": [
        "x_train = x_train.astype('float32')\n",
        "x_test = x_test.astype('float32')"
      ],
      "metadata": {
        "execution": {
          "iopub.status.busy": "2021-11-11T17:38:52.300107Z",
          "iopub.execute_input": "2021-11-11T17:38:52.300360Z",
          "iopub.status.idle": "2021-11-11T17:38:52.483170Z",
          "shell.execute_reply.started": "2021-11-11T17:38:52.300334Z",
          "shell.execute_reply": "2021-11-11T17:38:52.482456Z"
        },
        "trusted": true,
        "id": "cnFxh_5mB2rK"
      },
      "execution_count": 5,
      "outputs": []
    },
    {
      "cell_type": "code",
      "source": [
        "num_clases = len(np.unique(y_train))\n",
        "y_train = to_categorical(y_train, num_clases)\n",
        "y_test = to_categorical(y_test, num_clases)"
      ],
      "metadata": {
        "execution": {
          "iopub.status.busy": "2021-11-11T17:38:56.194228Z",
          "iopub.execute_input": "2021-11-11T17:38:56.194490Z",
          "iopub.status.idle": "2021-11-11T17:38:56.202922Z",
          "shell.execute_reply.started": "2021-11-11T17:38:56.194463Z",
          "shell.execute_reply": "2021-11-11T17:38:56.202117Z"
        },
        "trusted": true,
        "id": "WXkaqfM_B2rM"
      },
      "execution_count": 6,
      "outputs": []
    },
    {
      "cell_type": "code",
      "source": [
        "y_train[0]"
      ],
      "metadata": {
        "execution": {
          "iopub.status.busy": "2021-11-11T17:39:00.534789Z",
          "iopub.execute_input": "2021-11-11T17:39:00.535056Z",
          "iopub.status.idle": "2021-11-11T17:39:00.540792Z",
          "shell.execute_reply.started": "2021-11-11T17:39:00.535030Z",
          "shell.execute_reply": "2021-11-11T17:39:00.540112Z"
        },
        "trusted": true,
        "colab": {
          "base_uri": "https://localhost:8080/"
        },
        "id": "FyArIojwB2rN",
        "outputId": "c7cd130c-66ae-4ed4-b09e-232940a1dc9f"
      },
      "execution_count": 7,
      "outputs": [
        {
          "output_type": "execute_result",
          "data": {
            "text/plain": [
              "array([0., 0., 0., 0., 0., 0., 1., 0., 0., 0.], dtype=float32)"
            ]
          },
          "metadata": {},
          "execution_count": 7
        }
      ]
    },
    {
      "cell_type": "markdown",
      "source": [
        "### Normalization"
      ],
      "metadata": {
        "id": "g_S03eFPB2rP"
      }
    },
    {
      "cell_type": "code",
      "source": [
        "mean = np.mean(x_train)\n",
        "std = np.std(x_train)"
      ],
      "metadata": {
        "execution": {
          "iopub.status.busy": "2021-11-11T17:39:13.318079Z",
          "iopub.execute_input": "2021-11-11T17:39:13.318343Z",
          "iopub.status.idle": "2021-11-11T17:39:13.719900Z",
          "shell.execute_reply.started": "2021-11-11T17:39:13.318315Z",
          "shell.execute_reply": "2021-11-11T17:39:13.719142Z"
        },
        "trusted": true,
        "id": "kitwr6wmB2rQ"
      },
      "execution_count": 8,
      "outputs": []
    },
    {
      "cell_type": "code",
      "source": [
        "x_train = (x_train - mean) / (std+1e-7)\n",
        "x_test = (x_test - mean) / (std+1e-7)"
      ],
      "metadata": {
        "execution": {
          "iopub.status.busy": "2021-11-11T17:39:30.750113Z",
          "iopub.execute_input": "2021-11-11T17:39:30.750791Z",
          "iopub.status.idle": "2021-11-11T17:39:31.094817Z",
          "shell.execute_reply.started": "2021-11-11T17:39:30.750745Z",
          "shell.execute_reply": "2021-11-11T17:39:31.093988Z"
        },
        "trusted": true,
        "id": "wb62KVfaB2rR"
      },
      "execution_count": 9,
      "outputs": []
    },
    {
      "cell_type": "markdown",
      "source": [
        "## Creation of the data set"
      ],
      "metadata": {
        "id": "Dv3YhddoB2rS"
      }
    },
    {
      "cell_type": "code",
      "source": [
        "(x_train, x_valid) = x_train[5000:], x_train[:5000]\n",
        "(y_train, y_valid) = y_train[5000:], y_train[:5000]\n",
        "\n",
        "print('x_train shape', x_train.shape)\n",
        "\n",
        "print('train;', x_train.shape[0])\n",
        "print('val;', x_valid.shape[0])\n",
        "print('test;', x_test.shape[0])"
      ],
      "metadata": {
        "execution": {
          "iopub.status.busy": "2021-11-11T17:39:41.132472Z",
          "iopub.execute_input": "2021-11-11T17:39:41.132878Z",
          "iopub.status.idle": "2021-11-11T17:39:41.140338Z",
          "shell.execute_reply.started": "2021-11-11T17:39:41.132847Z",
          "shell.execute_reply": "2021-11-11T17:39:41.139626Z"
        },
        "trusted": true,
        "colab": {
          "base_uri": "https://localhost:8080/"
        },
        "id": "IS-ls2JrB2rT",
        "outputId": "0df4c206-f800-47d5-aa02-284cfd983206"
      },
      "execution_count": 10,
      "outputs": [
        {
          "output_type": "stream",
          "name": "stdout",
          "text": [
            "x_train shape (45000, 32, 32, 3)\n",
            "train; 45000\n",
            "val; 5000\n",
            "test; 10000\n"
          ]
        }
      ]
    },
    {
      "cell_type": "markdown",
      "source": [
        "## Construction of the convolutional model"
      ],
      "metadata": {
        "id": "UnKfEHfPB2rU"
      }
    },
    {
      "cell_type": "code",
      "source": [
        "base_filtros = 32\n",
        "w_regulatizer = 1e-4"
      ],
      "metadata": {
        "execution": {
          "iopub.status.busy": "2021-11-11T17:39:53.432689Z",
          "iopub.execute_input": "2021-11-11T17:39:53.433192Z",
          "iopub.status.idle": "2021-11-11T17:39:53.437224Z",
          "shell.execute_reply.started": "2021-11-11T17:39:53.433159Z",
          "shell.execute_reply": "2021-11-11T17:39:53.436481Z"
        },
        "trusted": true,
        "id": "OGGojM70B2rU"
      },
      "execution_count": 11,
      "outputs": []
    },
    {
      "cell_type": "code",
      "source": [
        "x_train.shape[1:]"
      ],
      "metadata": {
        "execution": {
          "iopub.status.busy": "2021-11-11T17:39:57.395088Z",
          "iopub.execute_input": "2021-11-11T17:39:57.395752Z",
          "iopub.status.idle": "2021-11-11T17:39:57.401295Z",
          "shell.execute_reply.started": "2021-11-11T17:39:57.395719Z",
          "shell.execute_reply": "2021-11-11T17:39:57.400462Z"
        },
        "trusted": true,
        "colab": {
          "base_uri": "https://localhost:8080/"
        },
        "id": "J0EkzEwwB2rW",
        "outputId": "f8e76461-c579-4889-face-716d5815aa13"
      },
      "execution_count": 12,
      "outputs": [
        {
          "output_type": "execute_result",
          "data": {
            "text/plain": [
              "(32, 32, 3)"
            ]
          },
          "metadata": {},
          "execution_count": 12
        }
      ]
    },
    {
      "cell_type": "code",
      "source": [
        "model = Sequential()\n",
        "## conv 1\n",
        "model.add(Conv2D(base_filtros, (3,3), padding='same', kernel_regularizer=regularizers.l2(w_regulatizer), input_shape=x_train.shape[1:]))\n",
        "model.add(Activation('relu'))\n",
        "model.add(BatchNormalization())\n",
        "\n",
        "## conv 2\n",
        "model.add(Conv2D(base_filtros, (3,3), padding='same', kernel_regularizer=regularizers.l2(w_regulatizer)))\n",
        "model.add(Activation('relu'))\n",
        "model.add(BatchNormalization())\n",
        "model.add(MaxPooling2D(pool_size=(2,2)))\n",
        "model.add(Dropout(0.2))\n",
        "\n",
        "## conv 3\n",
        "model.add(Conv2D(2*base_filtros, (3,3), padding='same', kernel_regularizer=regularizers.l2(w_regulatizer)))\n",
        "model.add(Activation('relu'))\n",
        "model.add(BatchNormalization())\n",
        "model.add(Dropout(0.2))\n",
        "\n",
        "## conv 4\n",
        "model.add(Conv2D(2*base_filtros, (3,3), padding='same', kernel_regularizer=regularizers.l2(w_regulatizer)))\n",
        "model.add(Activation('relu'))\n",
        "model.add(BatchNormalization())\n",
        "model.add(MaxPooling2D(pool_size=(2,2)))\n",
        "model.add(Dropout(0.3))\n",
        "\n",
        "## conv 5\n",
        "model.add(Conv2D(4*base_filtros, (3,3), padding='same', kernel_regularizer=regularizers.l2(w_regulatizer)))\n",
        "model.add(Activation('relu'))\n",
        "model.add(BatchNormalization())\n",
        "\n",
        "\n",
        "## conv 6\n",
        "model.add(Conv2D(4*base_filtros, (3,3), padding='same', kernel_regularizer=regularizers.l2(w_regulatizer)))\n",
        "model.add(Activation('relu'))\n",
        "model.add(BatchNormalization())\n",
        "model.add(MaxPooling2D(pool_size=(2,2)))\n",
        "model.add(Dropout(0.4))\n",
        "\n",
        "## Clasificacion - Flatten\n",
        "\n",
        "model.add(Flatten())\n",
        "model.add(Dense(num_clases,activation='softmax'))\n",
        "\n",
        "model.summary()\n",
        "\n"
      ],
      "metadata": {
        "execution": {
          "iopub.status.busy": "2021-11-11T17:40:03.061262Z",
          "iopub.execute_input": "2021-11-11T17:40:03.062044Z",
          "iopub.status.idle": "2021-11-11T17:40:05.244889Z",
          "shell.execute_reply.started": "2021-11-11T17:40:03.062000Z",
          "shell.execute_reply": "2021-11-11T17:40:05.244192Z"
        },
        "trusted": true,
        "colab": {
          "base_uri": "https://localhost:8080/"
        },
        "id": "v855BgC5B2rX",
        "outputId": "e87133c2-baf4-4944-b463-759168c38019"
      },
      "execution_count": 13,
      "outputs": [
        {
          "output_type": "stream",
          "name": "stdout",
          "text": [
            "Model: \"sequential\"\n",
            "_________________________________________________________________\n",
            " Layer (type)                Output Shape              Param #   \n",
            "=================================================================\n",
            " conv2d (Conv2D)             (None, 32, 32, 32)        896       \n",
            "                                                                 \n",
            " activation (Activation)     (None, 32, 32, 32)        0         \n",
            "                                                                 \n",
            " batch_normalization (BatchN  (None, 32, 32, 32)       128       \n",
            " ormalization)                                                   \n",
            "                                                                 \n",
            " conv2d_1 (Conv2D)           (None, 32, 32, 32)        9248      \n",
            "                                                                 \n",
            " activation_1 (Activation)   (None, 32, 32, 32)        0         \n",
            "                                                                 \n",
            " batch_normalization_1 (Batc  (None, 32, 32, 32)       128       \n",
            " hNormalization)                                                 \n",
            "                                                                 \n",
            " max_pooling2d (MaxPooling2D  (None, 16, 16, 32)       0         \n",
            " )                                                               \n",
            "                                                                 \n",
            " dropout (Dropout)           (None, 16, 16, 32)        0         \n",
            "                                                                 \n",
            " conv2d_2 (Conv2D)           (None, 16, 16, 64)        18496     \n",
            "                                                                 \n",
            " activation_2 (Activation)   (None, 16, 16, 64)        0         \n",
            "                                                                 \n",
            " batch_normalization_2 (Batc  (None, 16, 16, 64)       256       \n",
            " hNormalization)                                                 \n",
            "                                                                 \n",
            " dropout_1 (Dropout)         (None, 16, 16, 64)        0         \n",
            "                                                                 \n",
            " conv2d_3 (Conv2D)           (None, 16, 16, 64)        36928     \n",
            "                                                                 \n",
            " activation_3 (Activation)   (None, 16, 16, 64)        0         \n",
            "                                                                 \n",
            " batch_normalization_3 (Batc  (None, 16, 16, 64)       256       \n",
            " hNormalization)                                                 \n",
            "                                                                 \n",
            " max_pooling2d_1 (MaxPooling  (None, 8, 8, 64)         0         \n",
            " 2D)                                                             \n",
            "                                                                 \n",
            " dropout_2 (Dropout)         (None, 8, 8, 64)          0         \n",
            "                                                                 \n",
            " conv2d_4 (Conv2D)           (None, 8, 8, 128)         73856     \n",
            "                                                                 \n",
            " activation_4 (Activation)   (None, 8, 8, 128)         0         \n",
            "                                                                 \n",
            " batch_normalization_4 (Batc  (None, 8, 8, 128)        512       \n",
            " hNormalization)                                                 \n",
            "                                                                 \n",
            " conv2d_5 (Conv2D)           (None, 8, 8, 128)         147584    \n",
            "                                                                 \n",
            " activation_5 (Activation)   (None, 8, 8, 128)         0         \n",
            "                                                                 \n",
            " batch_normalization_5 (Batc  (None, 8, 8, 128)        512       \n",
            " hNormalization)                                                 \n",
            "                                                                 \n",
            " max_pooling2d_2 (MaxPooling  (None, 4, 4, 128)        0         \n",
            " 2D)                                                             \n",
            "                                                                 \n",
            " dropout_3 (Dropout)         (None, 4, 4, 128)         0         \n",
            "                                                                 \n",
            " flatten (Flatten)           (None, 2048)              0         \n",
            "                                                                 \n",
            " dense (Dense)               (None, 10)                20490     \n",
            "                                                                 \n",
            "=================================================================\n",
            "Total params: 309,290\n",
            "Trainable params: 308,394\n",
            "Non-trainable params: 896\n",
            "_________________________________________________________________\n"
          ]
        }
      ]
    },
    {
      "cell_type": "markdown",
      "source": [
        "## Data augmentation"
      ],
      "metadata": {
        "id": "QwDht7lnB2rY"
      }
    },
    {
      "cell_type": "code",
      "source": [
        "datagen = ImageDataGenerator(rotation_range=15,\n",
        "                  width_shift_range=0.1,\n",
        "                  height_shift_range=0.1,\n",
        "                  horizontal_flip=True,\n",
        "                  vertical_flip=True)"
      ],
      "metadata": {
        "execution": {
          "iopub.status.busy": "2021-11-11T17:40:10.005579Z",
          "iopub.execute_input": "2021-11-11T17:40:10.006124Z",
          "iopub.status.idle": "2021-11-11T17:40:10.011879Z",
          "shell.execute_reply.started": "2021-11-11T17:40:10.006092Z",
          "shell.execute_reply": "2021-11-11T17:40:10.011023Z"
        },
        "trusted": true,
        "id": "xud1Lgx-B2rZ"
      },
      "execution_count": 14,
      "outputs": []
    },
    {
      "cell_type": "code",
      "source": [
        "from tensorflow.keras import optimizers"
      ],
      "metadata": {
        "execution": {
          "iopub.status.busy": "2021-11-11T17:40:22.151023Z",
          "iopub.execute_input": "2021-11-11T17:40:22.151276Z",
          "iopub.status.idle": "2021-11-11T17:40:22.155226Z",
          "shell.execute_reply.started": "2021-11-11T17:40:22.151250Z",
          "shell.execute_reply": "2021-11-11T17:40:22.154205Z"
        },
        "trusted": true,
        "id": "b0i4gm4lB2ra"
      },
      "execution_count": 15,
      "outputs": []
    },
    {
      "cell_type": "code",
      "source": [
        "model.compile(loss='categorical_crossentropy', optimizer=optimizers.Adam(),\n",
        "             metrics=['accuracy'])"
      ],
      "metadata": {
        "execution": {
          "iopub.status.busy": "2021-11-11T17:40:25.138438Z",
          "iopub.execute_input": "2021-11-11T17:40:25.139225Z",
          "iopub.status.idle": "2021-11-11T17:40:25.154622Z",
          "shell.execute_reply.started": "2021-11-11T17:40:25.139179Z",
          "shell.execute_reply": "2021-11-11T17:40:25.153880Z"
        },
        "trusted": true,
        "id": "yMG6bd7qB2ra"
      },
      "execution_count": 16,
      "outputs": []
    },
    {
      "cell_type": "markdown",
      "source": [
        "## Callbacks"
      ],
      "metadata": {
        "id": "dhbxhRkFB2rc"
      }
    },
    {
      "cell_type": "code",
      "source": [
        "chekcpoint = ModelCheckpoint('my_best_model.hdf5',verbose=1,save_best_only=True, monitor = 'val_accuracy')"
      ],
      "metadata": {
        "execution": {
          "iopub.status.busy": "2021-11-11T17:41:42.458717Z",
          "iopub.execute_input": "2021-11-11T17:41:42.458974Z",
          "iopub.status.idle": "2021-11-11T17:41:42.465817Z",
          "shell.execute_reply.started": "2021-11-11T17:41:42.458949Z",
          "shell.execute_reply": "2021-11-11T17:41:42.464557Z"
        },
        "trusted": true,
        "id": "dscKK4vdB2rc"
      },
      "execution_count": 17,
      "outputs": []
    },
    {
      "cell_type": "markdown",
      "source": [
        "## Entrenando nuestro modelo"
      ],
      "metadata": {
        "id": "uZeRsWf4B2rc"
      }
    },
    {
      "cell_type": "code",
      "source": [
        "hist = model.fit(datagen.flow(x_train, y_train, batch_size=128),\n",
        "          callbacks=[chekcpoint],\n",
        "          steps_per_epoch=x_train.shape[0] // 128, \n",
        "          epochs=120,\n",
        "          verbose=2,\n",
        "          validation_data=(x_valid, y_valid)\n",
        "         )"
      ],
      "metadata": {
        "execution": {
          "iopub.status.busy": "2021-11-11T17:42:29.095009Z",
          "iopub.execute_input": "2021-11-11T17:42:29.095274Z",
          "iopub.status.idle": "2021-11-11T18:24:42.547402Z",
          "shell.execute_reply.started": "2021-11-11T17:42:29.095248Z",
          "shell.execute_reply": "2021-11-11T18:24:42.546393Z"
        },
        "trusted": true,
        "colab": {
          "base_uri": "https://localhost:8080/"
        },
        "id": "KPWT0T9oB2rd",
        "outputId": "9d6eb8b4-afe3-4179-9f85-15832ed5f905"
      },
      "execution_count": 18,
      "outputs": [
        {
          "output_type": "stream",
          "name": "stdout",
          "text": [
            "Epoch 1/120\n",
            "\n",
            "Epoch 1: val_accuracy improved from -inf to 0.24180, saving model to mi_mejor_modelo.hdf5\n",
            "351/351 - 34s - loss: 2.2272 - accuracy: 0.3231 - val_loss: 2.5760 - val_accuracy: 0.2418 - 34s/epoch - 96ms/step\n",
            "Epoch 2/120\n",
            "\n",
            "Epoch 2: val_accuracy improved from 0.24180 to 0.45200, saving model to mi_mejor_modelo.hdf5\n",
            "351/351 - 20s - loss: 1.7132 - accuracy: 0.4345 - val_loss: 1.6373 - val_accuracy: 0.4520 - 20s/epoch - 56ms/step\n",
            "Epoch 3/120\n",
            "\n",
            "Epoch 3: val_accuracy improved from 0.45200 to 0.50920, saving model to mi_mejor_modelo.hdf5\n",
            "351/351 - 19s - loss: 1.5171 - accuracy: 0.5017 - val_loss: 1.5846 - val_accuracy: 0.5092 - 19s/epoch - 55ms/step\n",
            "Epoch 4/120\n",
            "\n",
            "Epoch 4: val_accuracy improved from 0.50920 to 0.56800, saving model to mi_mejor_modelo.hdf5\n",
            "351/351 - 19s - loss: 1.3878 - accuracy: 0.5445 - val_loss: 1.3641 - val_accuracy: 0.5680 - 19s/epoch - 55ms/step\n",
            "Epoch 5/120\n",
            "\n",
            "Epoch 5: val_accuracy improved from 0.56800 to 0.60280, saving model to mi_mejor_modelo.hdf5\n",
            "351/351 - 19s - loss: 1.2868 - accuracy: 0.5763 - val_loss: 1.2445 - val_accuracy: 0.6028 - 19s/epoch - 55ms/step\n",
            "Epoch 6/120\n",
            "\n",
            "Epoch 6: val_accuracy improved from 0.60280 to 0.62780, saving model to mi_mejor_modelo.hdf5\n",
            "351/351 - 19s - loss: 1.2050 - accuracy: 0.6019 - val_loss: 1.1424 - val_accuracy: 0.6278 - 19s/epoch - 56ms/step\n",
            "Epoch 7/120\n",
            "\n",
            "Epoch 7: val_accuracy improved from 0.62780 to 0.66160, saving model to mi_mejor_modelo.hdf5\n",
            "351/351 - 20s - loss: 1.1405 - accuracy: 0.6244 - val_loss: 1.0423 - val_accuracy: 0.6616 - 20s/epoch - 56ms/step\n",
            "Epoch 8/120\n",
            "\n",
            "Epoch 8: val_accuracy did not improve from 0.66160\n",
            "351/351 - 20s - loss: 1.0782 - accuracy: 0.6418 - val_loss: 1.0867 - val_accuracy: 0.6616 - 20s/epoch - 58ms/step\n",
            "Epoch 9/120\n",
            "\n",
            "Epoch 9: val_accuracy improved from 0.66160 to 0.68460, saving model to mi_mejor_modelo.hdf5\n",
            "351/351 - 19s - loss: 1.0376 - accuracy: 0.6588 - val_loss: 1.0006 - val_accuracy: 0.6846 - 19s/epoch - 56ms/step\n",
            "Epoch 10/120\n",
            "\n",
            "Epoch 10: val_accuracy improved from 0.68460 to 0.70840, saving model to mi_mejor_modelo.hdf5\n",
            "351/351 - 19s - loss: 1.0085 - accuracy: 0.6694 - val_loss: 0.9134 - val_accuracy: 0.7084 - 19s/epoch - 55ms/step\n",
            "Epoch 11/120\n",
            "\n",
            "Epoch 11: val_accuracy did not improve from 0.70840\n",
            "351/351 - 19s - loss: 0.9719 - accuracy: 0.6792 - val_loss: 1.0227 - val_accuracy: 0.6816 - 19s/epoch - 55ms/step\n",
            "Epoch 12/120\n",
            "\n",
            "Epoch 12: val_accuracy did not improve from 0.70840\n",
            "351/351 - 20s - loss: 0.9628 - accuracy: 0.6844 - val_loss: 0.9851 - val_accuracy: 0.6898 - 20s/epoch - 56ms/step\n",
            "Epoch 13/120\n",
            "\n",
            "Epoch 13: val_accuracy improved from 0.70840 to 0.71320, saving model to mi_mejor_modelo.hdf5\n",
            "351/351 - 19s - loss: 0.9374 - accuracy: 0.6951 - val_loss: 0.9349 - val_accuracy: 0.7132 - 19s/epoch - 55ms/step\n",
            "Epoch 14/120\n",
            "\n",
            "Epoch 14: val_accuracy improved from 0.71320 to 0.71900, saving model to mi_mejor_modelo.hdf5\n",
            "351/351 - 19s - loss: 0.9210 - accuracy: 0.7042 - val_loss: 0.9011 - val_accuracy: 0.7190 - 19s/epoch - 55ms/step\n",
            "Epoch 15/120\n",
            "\n",
            "Epoch 15: val_accuracy improved from 0.71900 to 0.73720, saving model to mi_mejor_modelo.hdf5\n",
            "351/351 - 20s - loss: 0.8952 - accuracy: 0.7147 - val_loss: 0.8501 - val_accuracy: 0.7372 - 20s/epoch - 56ms/step\n",
            "Epoch 16/120\n",
            "\n",
            "Epoch 16: val_accuracy did not improve from 0.73720\n",
            "351/351 - 20s - loss: 0.8858 - accuracy: 0.7175 - val_loss: 1.0156 - val_accuracy: 0.6838 - 20s/epoch - 58ms/step\n",
            "Epoch 17/120\n",
            "\n",
            "Epoch 17: val_accuracy improved from 0.73720 to 0.75020, saving model to mi_mejor_modelo.hdf5\n",
            "351/351 - 19s - loss: 0.8781 - accuracy: 0.7211 - val_loss: 0.8160 - val_accuracy: 0.7502 - 19s/epoch - 55ms/step\n",
            "Epoch 18/120\n",
            "\n",
            "Epoch 18: val_accuracy did not improve from 0.75020\n",
            "351/351 - 19s - loss: 0.8570 - accuracy: 0.7304 - val_loss: 0.8578 - val_accuracy: 0.7382 - 19s/epoch - 55ms/step\n",
            "Epoch 19/120\n",
            "\n",
            "Epoch 19: val_accuracy improved from 0.75020 to 0.75300, saving model to mi_mejor_modelo.hdf5\n",
            "351/351 - 20s - loss: 0.8585 - accuracy: 0.7281 - val_loss: 0.8185 - val_accuracy: 0.7530 - 20s/epoch - 56ms/step\n",
            "Epoch 20/120\n",
            "\n",
            "Epoch 20: val_accuracy did not improve from 0.75300\n",
            "351/351 - 19s - loss: 0.8488 - accuracy: 0.7341 - val_loss: 0.8165 - val_accuracy: 0.7502 - 19s/epoch - 55ms/step\n",
            "Epoch 21/120\n",
            "\n",
            "Epoch 21: val_accuracy improved from 0.75300 to 0.77020, saving model to mi_mejor_modelo.hdf5\n",
            "351/351 - 19s - loss: 0.8467 - accuracy: 0.7354 - val_loss: 0.7505 - val_accuracy: 0.7702 - 19s/epoch - 55ms/step\n",
            "Epoch 22/120\n",
            "\n",
            "Epoch 22: val_accuracy did not improve from 0.77020\n",
            "351/351 - 19s - loss: 0.8324 - accuracy: 0.7439 - val_loss: 0.8018 - val_accuracy: 0.7568 - 19s/epoch - 55ms/step\n",
            "Epoch 23/120\n",
            "\n",
            "Epoch 23: val_accuracy improved from 0.77020 to 0.77280, saving model to mi_mejor_modelo.hdf5\n",
            "351/351 - 20s - loss: 0.8257 - accuracy: 0.7460 - val_loss: 0.7545 - val_accuracy: 0.7728 - 20s/epoch - 58ms/step\n",
            "Epoch 24/120\n",
            "\n",
            "Epoch 24: val_accuracy did not improve from 0.77280\n",
            "351/351 - 19s - loss: 0.8193 - accuracy: 0.7486 - val_loss: 0.7611 - val_accuracy: 0.7726 - 19s/epoch - 55ms/step\n",
            "Epoch 25/120\n",
            "\n",
            "Epoch 25: val_accuracy improved from 0.77280 to 0.78220, saving model to mi_mejor_modelo.hdf5\n",
            "351/351 - 20s - loss: 0.8103 - accuracy: 0.7525 - val_loss: 0.7401 - val_accuracy: 0.7822 - 20s/epoch - 56ms/step\n",
            "Epoch 26/120\n",
            "\n",
            "Epoch 26: val_accuracy did not improve from 0.78220\n",
            "351/351 - 19s - loss: 0.8124 - accuracy: 0.7504 - val_loss: 0.7618 - val_accuracy: 0.7786 - 19s/epoch - 55ms/step\n",
            "Epoch 27/120\n",
            "\n",
            "Epoch 27: val_accuracy did not improve from 0.78220\n",
            "351/351 - 19s - loss: 0.8022 - accuracy: 0.7568 - val_loss: 0.7782 - val_accuracy: 0.7676 - 19s/epoch - 55ms/step\n",
            "Epoch 28/120\n",
            "\n",
            "Epoch 28: val_accuracy did not improve from 0.78220\n",
            "351/351 - 20s - loss: 0.8025 - accuracy: 0.7544 - val_loss: 0.7508 - val_accuracy: 0.7794 - 20s/epoch - 56ms/step\n",
            "Epoch 29/120\n",
            "\n",
            "Epoch 29: val_accuracy did not improve from 0.78220\n",
            "351/351 - 19s - loss: 0.7988 - accuracy: 0.7592 - val_loss: 0.7733 - val_accuracy: 0.7766 - 19s/epoch - 55ms/step\n",
            "Epoch 30/120\n",
            "\n",
            "Epoch 30: val_accuracy did not improve from 0.78220\n",
            "351/351 - 20s - loss: 0.7900 - accuracy: 0.7621 - val_loss: 0.7515 - val_accuracy: 0.7794 - 20s/epoch - 58ms/step\n",
            "Epoch 31/120\n",
            "\n",
            "Epoch 31: val_accuracy improved from 0.78220 to 0.78520, saving model to mi_mejor_modelo.hdf5\n",
            "351/351 - 19s - loss: 0.7893 - accuracy: 0.7631 - val_loss: 0.7322 - val_accuracy: 0.7852 - 19s/epoch - 55ms/step\n",
            "Epoch 32/120\n",
            "\n",
            "Epoch 32: val_accuracy improved from 0.78520 to 0.79160, saving model to mi_mejor_modelo.hdf5\n",
            "351/351 - 19s - loss: 0.7789 - accuracy: 0.7665 - val_loss: 0.7255 - val_accuracy: 0.7916 - 19s/epoch - 55ms/step\n",
            "Epoch 33/120\n",
            "\n",
            "Epoch 33: val_accuracy did not improve from 0.79160\n",
            "351/351 - 19s - loss: 0.7788 - accuracy: 0.7682 - val_loss: 0.8394 - val_accuracy: 0.7704 - 19s/epoch - 55ms/step\n",
            "Epoch 34/120\n",
            "\n",
            "Epoch 34: val_accuracy did not improve from 0.79160\n",
            "351/351 - 19s - loss: 0.7774 - accuracy: 0.7718 - val_loss: 0.8011 - val_accuracy: 0.7736 - 19s/epoch - 55ms/step\n",
            "Epoch 35/120\n",
            "\n",
            "Epoch 35: val_accuracy did not improve from 0.79160\n",
            "351/351 - 19s - loss: 0.7748 - accuracy: 0.7702 - val_loss: 0.7748 - val_accuracy: 0.7736 - 19s/epoch - 55ms/step\n",
            "Epoch 36/120\n",
            "\n",
            "Epoch 36: val_accuracy did not improve from 0.79160\n",
            "351/351 - 19s - loss: 0.7751 - accuracy: 0.7708 - val_loss: 0.7495 - val_accuracy: 0.7902 - 19s/epoch - 55ms/step\n",
            "Epoch 37/120\n",
            "\n",
            "Epoch 37: val_accuracy did not improve from 0.79160\n",
            "351/351 - 19s - loss: 0.7683 - accuracy: 0.7722 - val_loss: 0.7536 - val_accuracy: 0.7866 - 19s/epoch - 55ms/step\n",
            "Epoch 38/120\n",
            "\n",
            "Epoch 38: val_accuracy improved from 0.79160 to 0.79200, saving model to mi_mejor_modelo.hdf5\n",
            "351/351 - 20s - loss: 0.7691 - accuracy: 0.7753 - val_loss: 0.7302 - val_accuracy: 0.7920 - 20s/epoch - 58ms/step\n",
            "Epoch 39/120\n",
            "\n",
            "Epoch 39: val_accuracy improved from 0.79200 to 0.79920, saving model to mi_mejor_modelo.hdf5\n",
            "351/351 - 19s - loss: 0.7610 - accuracy: 0.7761 - val_loss: 0.7154 - val_accuracy: 0.7992 - 19s/epoch - 55ms/step\n",
            "Epoch 40/120\n",
            "\n",
            "Epoch 40: val_accuracy did not improve from 0.79920\n",
            "351/351 - 19s - loss: 0.7661 - accuracy: 0.7759 - val_loss: 0.7339 - val_accuracy: 0.7942 - 19s/epoch - 55ms/step\n",
            "Epoch 41/120\n",
            "\n",
            "Epoch 41: val_accuracy improved from 0.79920 to 0.80700, saving model to mi_mejor_modelo.hdf5\n",
            "351/351 - 20s - loss: 0.7666 - accuracy: 0.7750 - val_loss: 0.7106 - val_accuracy: 0.8070 - 20s/epoch - 56ms/step\n",
            "Epoch 42/120\n",
            "\n",
            "Epoch 42: val_accuracy did not improve from 0.80700\n",
            "351/351 - 19s - loss: 0.7554 - accuracy: 0.7790 - val_loss: 0.7700 - val_accuracy: 0.7790 - 19s/epoch - 55ms/step\n",
            "Epoch 43/120\n",
            "\n",
            "Epoch 43: val_accuracy did not improve from 0.80700\n",
            "351/351 - 19s - loss: 0.7533 - accuracy: 0.7811 - val_loss: 0.6943 - val_accuracy: 0.8062 - 19s/epoch - 55ms/step\n",
            "Epoch 44/120\n",
            "\n",
            "Epoch 44: val_accuracy did not improve from 0.80700\n",
            "351/351 - 20s - loss: 0.7519 - accuracy: 0.7821 - val_loss: 0.7178 - val_accuracy: 0.8034 - 20s/epoch - 56ms/step\n",
            "Epoch 45/120\n",
            "\n",
            "Epoch 45: val_accuracy did not improve from 0.80700\n",
            "351/351 - 20s - loss: 0.7535 - accuracy: 0.7819 - val_loss: 0.7712 - val_accuracy: 0.7854 - 20s/epoch - 58ms/step\n",
            "Epoch 46/120\n",
            "\n",
            "Epoch 46: val_accuracy did not improve from 0.80700\n",
            "351/351 - 20s - loss: 0.7456 - accuracy: 0.7851 - val_loss: 0.6893 - val_accuracy: 0.8038 - 20s/epoch - 56ms/step\n",
            "Epoch 47/120\n",
            "\n",
            "Epoch 47: val_accuracy did not improve from 0.80700\n",
            "351/351 - 20s - loss: 0.7444 - accuracy: 0.7845 - val_loss: 0.7192 - val_accuracy: 0.8038 - 20s/epoch - 56ms/step\n",
            "Epoch 48/120\n",
            "\n",
            "Epoch 48: val_accuracy did not improve from 0.80700\n",
            "351/351 - 20s - loss: 0.7469 - accuracy: 0.7841 - val_loss: 0.7324 - val_accuracy: 0.7912 - 20s/epoch - 56ms/step\n",
            "Epoch 49/120\n",
            "\n",
            "Epoch 49: val_accuracy did not improve from 0.80700\n",
            "351/351 - 19s - loss: 0.7419 - accuracy: 0.7867 - val_loss: 0.7014 - val_accuracy: 0.8002 - 19s/epoch - 55ms/step\n",
            "Epoch 50/120\n",
            "\n",
            "Epoch 50: val_accuracy did not improve from 0.80700\n",
            "351/351 - 19s - loss: 0.7430 - accuracy: 0.7858 - val_loss: 0.6974 - val_accuracy: 0.8004 - 19s/epoch - 55ms/step\n",
            "Epoch 51/120\n",
            "\n",
            "Epoch 51: val_accuracy did not improve from 0.80700\n",
            "351/351 - 19s - loss: 0.7448 - accuracy: 0.7862 - val_loss: 0.6978 - val_accuracy: 0.8024 - 19s/epoch - 55ms/step\n",
            "Epoch 52/120\n",
            "\n",
            "Epoch 52: val_accuracy did not improve from 0.80700\n",
            "351/351 - 20s - loss: 0.7397 - accuracy: 0.7887 - val_loss: 0.7094 - val_accuracy: 0.7994 - 20s/epoch - 58ms/step\n",
            "Epoch 53/120\n",
            "\n",
            "Epoch 53: val_accuracy improved from 0.80700 to 0.82980, saving model to mi_mejor_modelo.hdf5\n",
            "351/351 - 19s - loss: 0.7393 - accuracy: 0.7895 - val_loss: 0.6288 - val_accuracy: 0.8298 - 19s/epoch - 55ms/step\n",
            "Epoch 54/120\n",
            "\n",
            "Epoch 54: val_accuracy did not improve from 0.82980\n",
            "351/351 - 19s - loss: 0.7403 - accuracy: 0.7881 - val_loss: 0.7355 - val_accuracy: 0.8036 - 19s/epoch - 55ms/step\n",
            "Epoch 55/120\n",
            "\n",
            "Epoch 55: val_accuracy did not improve from 0.82980\n",
            "351/351 - 19s - loss: 0.7381 - accuracy: 0.7886 - val_loss: 0.6427 - val_accuracy: 0.8284 - 19s/epoch - 55ms/step\n",
            "Epoch 56/120\n",
            "\n",
            "Epoch 56: val_accuracy did not improve from 0.82980\n",
            "351/351 - 19s - loss: 0.7357 - accuracy: 0.7902 - val_loss: 0.7927 - val_accuracy: 0.7808 - 19s/epoch - 55ms/step\n",
            "Epoch 57/120\n",
            "\n",
            "Epoch 57: val_accuracy did not improve from 0.82980\n",
            "351/351 - 19s - loss: 0.7321 - accuracy: 0.7911 - val_loss: 0.7101 - val_accuracy: 0.8012 - 19s/epoch - 55ms/step\n",
            "Epoch 58/120\n",
            "\n",
            "Epoch 58: val_accuracy did not improve from 0.82980\n",
            "351/351 - 19s - loss: 0.7294 - accuracy: 0.7935 - val_loss: 0.7262 - val_accuracy: 0.8024 - 19s/epoch - 55ms/step\n",
            "Epoch 59/120\n",
            "\n",
            "Epoch 59: val_accuracy did not improve from 0.82980\n",
            "351/351 - 19s - loss: 0.7265 - accuracy: 0.7927 - val_loss: 0.6755 - val_accuracy: 0.8202 - 19s/epoch - 55ms/step\n",
            "Epoch 60/120\n",
            "\n",
            "Epoch 60: val_accuracy did not improve from 0.82980\n",
            "351/351 - 20s - loss: 0.7276 - accuracy: 0.7951 - val_loss: 0.6933 - val_accuracy: 0.8096 - 20s/epoch - 58ms/step\n",
            "Epoch 61/120\n",
            "\n",
            "Epoch 61: val_accuracy did not improve from 0.82980\n",
            "351/351 - 19s - loss: 0.7264 - accuracy: 0.7921 - val_loss: 0.7830 - val_accuracy: 0.7966 - 19s/epoch - 55ms/step\n",
            "Epoch 62/120\n",
            "\n",
            "Epoch 62: val_accuracy did not improve from 0.82980\n",
            "351/351 - 19s - loss: 0.7263 - accuracy: 0.7941 - val_loss: 0.7223 - val_accuracy: 0.8074 - 19s/epoch - 55ms/step\n",
            "Epoch 63/120\n",
            "\n",
            "Epoch 63: val_accuracy did not improve from 0.82980\n",
            "351/351 - 20s - loss: 0.7258 - accuracy: 0.7961 - val_loss: 0.8018 - val_accuracy: 0.7856 - 20s/epoch - 56ms/step\n",
            "Epoch 64/120\n",
            "\n",
            "Epoch 64: val_accuracy did not improve from 0.82980\n",
            "351/351 - 19s - loss: 0.7256 - accuracy: 0.7924 - val_loss: 0.6724 - val_accuracy: 0.8212 - 19s/epoch - 56ms/step\n",
            "Epoch 65/120\n",
            "\n",
            "Epoch 65: val_accuracy did not improve from 0.82980\n",
            "351/351 - 19s - loss: 0.7261 - accuracy: 0.7931 - val_loss: 0.7465 - val_accuracy: 0.7992 - 19s/epoch - 55ms/step\n",
            "Epoch 66/120\n",
            "\n",
            "Epoch 66: val_accuracy did not improve from 0.82980\n",
            "351/351 - 19s - loss: 0.7251 - accuracy: 0.7943 - val_loss: 0.6958 - val_accuracy: 0.8154 - 19s/epoch - 55ms/step\n",
            "Epoch 67/120\n",
            "\n",
            "Epoch 67: val_accuracy did not improve from 0.82980\n",
            "351/351 - 20s - loss: 0.7244 - accuracy: 0.7945 - val_loss: 0.6936 - val_accuracy: 0.8090 - 20s/epoch - 57ms/step\n",
            "Epoch 68/120\n",
            "\n",
            "Epoch 68: val_accuracy did not improve from 0.82980\n",
            "351/351 - 19s - loss: 0.7247 - accuracy: 0.7959 - val_loss: 0.7157 - val_accuracy: 0.8154 - 19s/epoch - 55ms/step\n",
            "Epoch 69/120\n",
            "\n",
            "Epoch 69: val_accuracy did not improve from 0.82980\n",
            "351/351 - 19s - loss: 0.7188 - accuracy: 0.8001 - val_loss: 0.7180 - val_accuracy: 0.8004 - 19s/epoch - 55ms/step\n",
            "Epoch 70/120\n",
            "\n",
            "Epoch 70: val_accuracy did not improve from 0.82980\n",
            "351/351 - 19s - loss: 0.7165 - accuracy: 0.7998 - val_loss: 0.7071 - val_accuracy: 0.8140 - 19s/epoch - 55ms/step\n",
            "Epoch 71/120\n",
            "\n",
            "Epoch 71: val_accuracy did not improve from 0.82980\n",
            "351/351 - 19s - loss: 0.7237 - accuracy: 0.7976 - val_loss: 0.7022 - val_accuracy: 0.8130 - 19s/epoch - 55ms/step\n",
            "Epoch 72/120\n",
            "\n",
            "Epoch 72: val_accuracy did not improve from 0.82980\n",
            "351/351 - 20s - loss: 0.7201 - accuracy: 0.7982 - val_loss: 0.6484 - val_accuracy: 0.8256 - 20s/epoch - 56ms/step\n",
            "Epoch 73/120\n",
            "\n",
            "Epoch 73: val_accuracy did not improve from 0.82980\n",
            "351/351 - 19s - loss: 0.7150 - accuracy: 0.7991 - val_loss: 0.7056 - val_accuracy: 0.8126 - 19s/epoch - 55ms/step\n",
            "Epoch 74/120\n",
            "\n",
            "Epoch 74: val_accuracy did not improve from 0.82980\n",
            "351/351 - 20s - loss: 0.7185 - accuracy: 0.7967 - val_loss: 0.6437 - val_accuracy: 0.8284 - 20s/epoch - 58ms/step\n",
            "Epoch 75/120\n",
            "\n",
            "Epoch 75: val_accuracy did not improve from 0.82980\n",
            "351/351 - 19s - loss: 0.7131 - accuracy: 0.7990 - val_loss: 0.6640 - val_accuracy: 0.8212 - 19s/epoch - 55ms/step\n",
            "Epoch 76/120\n",
            "\n",
            "Epoch 76: val_accuracy did not improve from 0.82980\n",
            "351/351 - 20s - loss: 0.7168 - accuracy: 0.8012 - val_loss: 0.6725 - val_accuracy: 0.8256 - 20s/epoch - 56ms/step\n",
            "Epoch 77/120\n",
            "\n",
            "Epoch 77: val_accuracy did not improve from 0.82980\n",
            "351/351 - 19s - loss: 0.7178 - accuracy: 0.7989 - val_loss: 0.7441 - val_accuracy: 0.7948 - 19s/epoch - 55ms/step\n",
            "Epoch 78/120\n",
            "\n",
            "Epoch 78: val_accuracy did not improve from 0.82980\n",
            "351/351 - 19s - loss: 0.7145 - accuracy: 0.7994 - val_loss: 0.6950 - val_accuracy: 0.8142 - 19s/epoch - 55ms/step\n",
            "Epoch 79/120\n",
            "\n",
            "Epoch 79: val_accuracy did not improve from 0.82980\n",
            "351/351 - 19s - loss: 0.7111 - accuracy: 0.8000 - val_loss: 0.6651 - val_accuracy: 0.8246 - 19s/epoch - 55ms/step\n",
            "Epoch 80/120\n",
            "\n",
            "Epoch 80: val_accuracy improved from 0.82980 to 0.83480, saving model to mi_mejor_modelo.hdf5\n",
            "351/351 - 20s - loss: 0.7092 - accuracy: 0.7994 - val_loss: 0.6330 - val_accuracy: 0.8348 - 20s/epoch - 56ms/step\n",
            "Epoch 81/120\n",
            "\n",
            "Epoch 81: val_accuracy did not improve from 0.83480\n",
            "351/351 - 19s - loss: 0.7092 - accuracy: 0.8026 - val_loss: 0.6884 - val_accuracy: 0.8184 - 19s/epoch - 55ms/step\n",
            "Epoch 82/120\n",
            "\n",
            "Epoch 82: val_accuracy did not improve from 0.83480\n",
            "351/351 - 20s - loss: 0.7067 - accuracy: 0.8009 - val_loss: 0.7084 - val_accuracy: 0.8124 - 20s/epoch - 58ms/step\n",
            "Epoch 83/120\n",
            "\n",
            "Epoch 83: val_accuracy did not improve from 0.83480\n",
            "351/351 - 19s - loss: 0.7130 - accuracy: 0.7987 - val_loss: 0.6518 - val_accuracy: 0.8290 - 19s/epoch - 55ms/step\n",
            "Epoch 84/120\n",
            "\n",
            "Epoch 84: val_accuracy did not improve from 0.83480\n",
            "351/351 - 19s - loss: 0.7074 - accuracy: 0.8024 - val_loss: 0.6651 - val_accuracy: 0.8208 - 19s/epoch - 55ms/step\n",
            "Epoch 85/120\n",
            "\n",
            "Epoch 85: val_accuracy did not improve from 0.83480\n",
            "351/351 - 19s - loss: 0.7093 - accuracy: 0.8038 - val_loss: 0.7186 - val_accuracy: 0.8086 - 19s/epoch - 55ms/step\n",
            "Epoch 86/120\n",
            "\n",
            "Epoch 86: val_accuracy did not improve from 0.83480\n",
            "351/351 - 19s - loss: 0.7051 - accuracy: 0.8044 - val_loss: 0.6482 - val_accuracy: 0.8256 - 19s/epoch - 55ms/step\n",
            "Epoch 87/120\n",
            "\n",
            "Epoch 87: val_accuracy did not improve from 0.83480\n",
            "351/351 - 19s - loss: 0.7049 - accuracy: 0.8034 - val_loss: 0.6883 - val_accuracy: 0.8204 - 19s/epoch - 55ms/step\n",
            "Epoch 88/120\n",
            "\n",
            "Epoch 88: val_accuracy did not improve from 0.83480\n",
            "351/351 - 19s - loss: 0.7067 - accuracy: 0.8045 - val_loss: 0.8107 - val_accuracy: 0.7904 - 19s/epoch - 56ms/step\n",
            "Epoch 89/120\n",
            "\n",
            "Epoch 89: val_accuracy did not improve from 0.83480\n",
            "351/351 - 20s - loss: 0.7036 - accuracy: 0.8043 - val_loss: 0.6909 - val_accuracy: 0.8164 - 20s/epoch - 58ms/step\n",
            "Epoch 90/120\n",
            "\n",
            "Epoch 90: val_accuracy did not improve from 0.83480\n",
            "351/351 - 19s - loss: 0.7100 - accuracy: 0.8017 - val_loss: 0.6452 - val_accuracy: 0.8290 - 19s/epoch - 55ms/step\n",
            "Epoch 91/120\n",
            "\n",
            "Epoch 91: val_accuracy did not improve from 0.83480\n",
            "351/351 - 19s - loss: 0.7077 - accuracy: 0.8033 - val_loss: 0.7328 - val_accuracy: 0.8096 - 19s/epoch - 55ms/step\n",
            "Epoch 92/120\n",
            "\n",
            "Epoch 92: val_accuracy did not improve from 0.83480\n",
            "351/351 - 19s - loss: 0.6999 - accuracy: 0.8061 - val_loss: 0.6249 - val_accuracy: 0.8332 - 19s/epoch - 55ms/step\n",
            "Epoch 93/120\n",
            "\n",
            "Epoch 93: val_accuracy did not improve from 0.83480\n",
            "351/351 - 20s - loss: 0.7031 - accuracy: 0.8025 - val_loss: 0.6524 - val_accuracy: 0.8318 - 20s/epoch - 56ms/step\n",
            "Epoch 94/120\n",
            "\n",
            "Epoch 94: val_accuracy did not improve from 0.83480\n",
            "351/351 - 19s - loss: 0.7024 - accuracy: 0.8042 - val_loss: 0.6699 - val_accuracy: 0.8222 - 19s/epoch - 55ms/step\n",
            "Epoch 95/120\n",
            "\n",
            "Epoch 95: val_accuracy did not improve from 0.83480\n",
            "351/351 - 20s - loss: 0.7063 - accuracy: 0.8028 - val_loss: 0.6971 - val_accuracy: 0.8134 - 20s/epoch - 56ms/step\n",
            "Epoch 96/120\n",
            "\n",
            "Epoch 96: val_accuracy did not improve from 0.83480\n",
            "351/351 - 19s - loss: 0.7008 - accuracy: 0.8066 - val_loss: 0.7244 - val_accuracy: 0.8114 - 19s/epoch - 55ms/step\n",
            "Epoch 97/120\n",
            "\n",
            "Epoch 97: val_accuracy did not improve from 0.83480\n",
            "351/351 - 19s - loss: 0.6973 - accuracy: 0.8055 - val_loss: 0.7385 - val_accuracy: 0.8092 - 19s/epoch - 55ms/step\n",
            "Epoch 98/120\n",
            "\n",
            "Epoch 98: val_accuracy did not improve from 0.83480\n",
            "351/351 - 19s - loss: 0.7006 - accuracy: 0.8053 - val_loss: 0.6306 - val_accuracy: 0.8324 - 19s/epoch - 55ms/step\n",
            "Epoch 99/120\n",
            "\n",
            "Epoch 99: val_accuracy did not improve from 0.83480\n",
            "351/351 - 19s - loss: 0.6991 - accuracy: 0.8066 - val_loss: 0.8045 - val_accuracy: 0.7906 - 19s/epoch - 56ms/step\n",
            "Epoch 100/120\n",
            "\n",
            "Epoch 100: val_accuracy did not improve from 0.83480\n",
            "351/351 - 19s - loss: 0.6988 - accuracy: 0.8078 - val_loss: 0.6520 - val_accuracy: 0.8298 - 19s/epoch - 55ms/step\n",
            "Epoch 101/120\n",
            "\n",
            "Epoch 101: val_accuracy did not improve from 0.83480\n",
            "351/351 - 20s - loss: 0.6988 - accuracy: 0.8057 - val_loss: 0.6891 - val_accuracy: 0.8228 - 20s/epoch - 56ms/step\n",
            "Epoch 102/120\n",
            "\n",
            "Epoch 102: val_accuracy did not improve from 0.83480\n",
            "351/351 - 19s - loss: 0.6991 - accuracy: 0.8077 - val_loss: 0.6399 - val_accuracy: 0.8346 - 19s/epoch - 55ms/step\n",
            "Epoch 103/120\n",
            "\n",
            "Epoch 103: val_accuracy did not improve from 0.83480\n",
            "351/351 - 19s - loss: 0.6995 - accuracy: 0.8071 - val_loss: 0.6855 - val_accuracy: 0.8238 - 19s/epoch - 55ms/step\n",
            "Epoch 104/120\n",
            "\n",
            "Epoch 104: val_accuracy did not improve from 0.83480\n",
            "351/351 - 20s - loss: 0.7005 - accuracy: 0.8064 - val_loss: 0.7379 - val_accuracy: 0.8106 - 20s/epoch - 56ms/step\n",
            "Epoch 105/120\n",
            "\n",
            "Epoch 105: val_accuracy did not improve from 0.83480\n",
            "351/351 - 20s - loss: 0.6994 - accuracy: 0.8049 - val_loss: 0.6834 - val_accuracy: 0.8252 - 20s/epoch - 56ms/step\n",
            "Epoch 106/120\n",
            "\n",
            "Epoch 106: val_accuracy improved from 0.83480 to 0.83560, saving model to mi_mejor_modelo.hdf5\n",
            "351/351 - 20s - loss: 0.6992 - accuracy: 0.8068 - val_loss: 0.6419 - val_accuracy: 0.8356 - 20s/epoch - 56ms/step\n",
            "Epoch 107/120\n",
            "\n",
            "Epoch 107: val_accuracy did not improve from 0.83560\n",
            "351/351 - 19s - loss: 0.6995 - accuracy: 0.8046 - val_loss: 0.6337 - val_accuracy: 0.8336 - 19s/epoch - 55ms/step\n",
            "Epoch 108/120\n",
            "\n",
            "Epoch 108: val_accuracy did not improve from 0.83560\n",
            "351/351 - 19s - loss: 0.6997 - accuracy: 0.8051 - val_loss: 0.6870 - val_accuracy: 0.8182 - 19s/epoch - 55ms/step\n",
            "Epoch 109/120\n",
            "\n",
            "Epoch 109: val_accuracy did not improve from 0.83560\n",
            "351/351 - 20s - loss: 0.6950 - accuracy: 0.8088 - val_loss: 0.6807 - val_accuracy: 0.8202 - 20s/epoch - 56ms/step\n",
            "Epoch 110/120\n",
            "\n",
            "Epoch 110: val_accuracy improved from 0.83560 to 0.83580, saving model to mi_mejor_modelo.hdf5\n",
            "351/351 - 20s - loss: 0.6976 - accuracy: 0.8081 - val_loss: 0.6363 - val_accuracy: 0.8358 - 20s/epoch - 56ms/step\n",
            "Epoch 111/120\n",
            "\n",
            "Epoch 111: val_accuracy did not improve from 0.83580\n",
            "351/351 - 19s - loss: 0.6923 - accuracy: 0.8085 - val_loss: 0.6300 - val_accuracy: 0.8328 - 19s/epoch - 55ms/step\n",
            "Epoch 112/120\n",
            "\n",
            "Epoch 112: val_accuracy improved from 0.83580 to 0.84240, saving model to mi_mejor_modelo.hdf5\n",
            "351/351 - 20s - loss: 0.6916 - accuracy: 0.8092 - val_loss: 0.6078 - val_accuracy: 0.8424 - 20s/epoch - 56ms/step\n",
            "Epoch 113/120\n",
            "\n",
            "Epoch 113: val_accuracy improved from 0.84240 to 0.84740, saving model to mi_mejor_modelo.hdf5\n",
            "351/351 - 20s - loss: 0.6953 - accuracy: 0.8076 - val_loss: 0.6062 - val_accuracy: 0.8474 - 20s/epoch - 56ms/step\n",
            "Epoch 114/120\n",
            "\n",
            "Epoch 114: val_accuracy did not improve from 0.84740\n",
            "351/351 - 19s - loss: 0.6976 - accuracy: 0.8072 - val_loss: 0.7719 - val_accuracy: 0.7996 - 19s/epoch - 55ms/step\n",
            "Epoch 115/120\n",
            "\n",
            "Epoch 115: val_accuracy did not improve from 0.84740\n",
            "351/351 - 19s - loss: 0.6890 - accuracy: 0.8118 - val_loss: 0.6520 - val_accuracy: 0.8270 - 19s/epoch - 55ms/step\n",
            "Epoch 116/120\n",
            "\n",
            "Epoch 116: val_accuracy did not improve from 0.84740\n",
            "351/351 - 20s - loss: 0.6940 - accuracy: 0.8092 - val_loss: 0.6949 - val_accuracy: 0.8112 - 20s/epoch - 56ms/step\n",
            "Epoch 117/120\n",
            "\n",
            "Epoch 117: val_accuracy did not improve from 0.84740\n",
            "351/351 - 19s - loss: 0.6907 - accuracy: 0.8097 - val_loss: 0.6575 - val_accuracy: 0.8268 - 19s/epoch - 56ms/step\n",
            "Epoch 118/120\n",
            "\n",
            "Epoch 118: val_accuracy did not improve from 0.84740\n",
            "351/351 - 19s - loss: 0.6891 - accuracy: 0.8112 - val_loss: 0.6863 - val_accuracy: 0.8222 - 19s/epoch - 55ms/step\n",
            "Epoch 119/120\n",
            "\n",
            "Epoch 119: val_accuracy did not improve from 0.84740\n",
            "351/351 - 19s - loss: 0.6947 - accuracy: 0.8088 - val_loss: 0.6687 - val_accuracy: 0.8300 - 19s/epoch - 55ms/step\n",
            "Epoch 120/120\n",
            "\n",
            "Epoch 120: val_accuracy did not improve from 0.84740\n",
            "351/351 - 20s - loss: 0.6959 - accuracy: 0.8083 - val_loss: 0.7135 - val_accuracy: 0.8148 - 20s/epoch - 56ms/step\n"
          ]
        }
      ]
    },
    {
      "cell_type": "markdown",
      "source": [
        "## Results"
      ],
      "metadata": {
        "id": "7_uYBuKQB2rd"
      }
    },
    {
      "cell_type": "code",
      "source": [
        "plt.plot(hist.history['accuracy'],label='Train')\n",
        "plt.plot(hist.history['val_accuracy'],label='Val')\n",
        "plt.legend()\n",
        "plt.show()"
      ],
      "metadata": {
        "execution": {
          "iopub.status.busy": "2021-11-11T18:28:49.733765Z",
          "iopub.execute_input": "2021-11-11T18:28:49.734092Z",
          "iopub.status.idle": "2021-11-11T18:28:49.987934Z",
          "shell.execute_reply.started": "2021-11-11T18:28:49.734056Z",
          "shell.execute_reply": "2021-11-11T18:28:49.987223Z"
        },
        "trusted": true,
        "colab": {
          "base_uri": "https://localhost:8080/",
          "height": 265
        },
        "id": "qJE27uwOB2re",
        "outputId": "e5abe255-d5f1-408a-eded-0b154b2a9f8b"
      },
      "execution_count": 19,
      "outputs": [
        {
          "output_type": "display_data",
          "data": {
            "text/plain": [
              "<Figure size 432x288 with 1 Axes>"
            ],
            "image/png": "[encoded data removed]"
          },
          "metadata": {
            "needs_background": "light"
          }
        }
      ]
    },
    {
      "cell_type": "code",
      "source": [
        "model2 = model"
      ],
      "metadata": {
        "execution": {
          "iopub.status.busy": "2021-11-11T18:28:52.820479Z",
          "iopub.execute_input": "2021-11-11T18:28:52.821188Z",
          "iopub.status.idle": "2021-11-11T18:28:52.825179Z",
          "shell.execute_reply.started": "2021-11-11T18:28:52.821153Z",
          "shell.execute_reply": "2021-11-11T18:28:52.824517Z"
        },
        "trusted": true,
        "id": "vUZthQ9KB2re"
      },
      "execution_count": 20,
      "outputs": []
    },
    {
      "cell_type": "code",
      "source": [
        "model2.load_weights('./my_best_model.hdf5')"
      ],
      "metadata": {
        "execution": {
          "iopub.status.busy": "2021-11-11T18:28:54.381998Z",
          "iopub.execute_input": "2021-11-11T18:28:54.383004Z",
          "iopub.status.idle": "2021-11-11T18:28:54.417183Z",
          "shell.execute_reply.started": "2021-11-11T18:28:54.382961Z",
          "shell.execute_reply": "2021-11-11T18:28:54.416431Z"
        },
        "trusted": true,
        "id": "twU4JfnZB2rf"
      },
      "execution_count": 22,
      "outputs": []
    },
    {
      "cell_type": "code",
      "source": [
        "model2.evaluate(x_test,y_test)"
      ],
      "metadata": {
        "execution": {
          "iopub.status.busy": "2021-11-11T18:28:56.551274Z",
          "iopub.execute_input": "2021-11-11T18:28:56.551792Z",
          "iopub.status.idle": "2021-11-11T18:28:57.752142Z",
          "shell.execute_reply.started": "2021-11-11T18:28:56.551759Z",
          "shell.execute_reply": "2021-11-11T18:28:57.751459Z"
        },
        "trusted": true,
        "colab": {
          "base_uri": "https://localhost:8080/"
        },
        "id": "o9THWR1LB2rg",
        "outputId": "276316e9-a21f-4e70-8a76-c711e31babbc"
      },
      "execution_count": 23,
      "outputs": [
        {
          "output_type": "stream",
          "name": "stdout",
          "text": [
            "313/313 [==============================] - 1s 5ms/step - loss: 0.6656 - accuracy: 0.8292\n"
          ]
        },
        {
          "output_type": "execute_result",
          "data": {
            "text/plain": [
              "[0.6656149625778198, 0.829200029373169]"
            ]
          },
          "metadata": {},
          "execution_count": 23
        }
      ]
    },
    {
      "cell_type": "code",
      "source": [
        ""
      ],
      "metadata": {
        "id": "26tYA094M3dz"
      },
      "execution_count": null,
      "outputs": []
    }
  ]
}